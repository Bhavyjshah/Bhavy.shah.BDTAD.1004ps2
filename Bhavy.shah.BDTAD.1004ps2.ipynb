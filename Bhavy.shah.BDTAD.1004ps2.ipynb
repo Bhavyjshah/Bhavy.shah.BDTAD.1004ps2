{
 "cells": [
  {
   "cell_type": "markdown",
   "id": "2ee09531",
   "metadata": {},
   "source": [
    "Q1: \n",
    "consider the following Python module:\n",
    "a = 0\n",
    "def b():\n",
    " global a\n",
    " a = c(a)\n",
    "def c(a):\n",
    " return a + 2\n",
    "After importing the module into the interpreter, you execute:\n",
    ">>> b()\n",
    ">>> b()\n",
    ">>> b()\n",
    ">>> a\n",
    "?\n",
    "What value is displayed when the last expression (a) is evaluated? Explain your \n",
    "answer by indicating what happens in every executed statement."
   ]
  },
  {
   "cell_type": "markdown",
   "id": "0a401de1",
   "metadata": {},
   "source": [
    "The value displayed when evaluating the last expression a would be 6."
   ]
  },
  {
   "cell_type": "markdown",
   "id": "49b77e8e",
   "metadata": {},
   "source": [
    "Q3:"
   ]
  },
  {
   "cell_type": "code",
   "execution_count": 3,
   "id": "54331b53",
   "metadata": {},
   "outputs": [
    {
     "name": "stdout",
     "output_type": "stream",
     "text": [
      "['doll', 'firetruck', 'kitten']\n",
      "I am a Kangaroo located at coordinates (0,0)\n",
      "['doll', 'firetruck', 'kitten']\n",
      "I am a Kangaroo located at coordinates (3,0)\n"
     ]
    }
   ],
   "source": [
    "class Marsupial:\n",
    "    def __init__(self):\n",
    "        self.pouch = []\n",
    "    \n",
    "    def put_in_pouch(self, item):\n",
    "        self.pouch.append(item)\n",
    "    \n",
    "    def pouch_contents(self):\n",
    "        return self.pouch\n",
    "\n",
    "\n",
    "class Kangaroo(Marsupial):\n",
    "    def __init__(self, x, y):\n",
    "        super().__init__()\n",
    "        self.x = x\n",
    "        self.y = y\n",
    "    \n",
    "    def jump(self, dx, dy):\n",
    "        self.x += dx\n",
    "        self.y += dy\n",
    "    \n",
    "    def __str__(self):\n",
    "        return f\"I am a Kangaroo located at coordinates ({self.x},{self.y})\"\n",
    "m = Marsupial()\n",
    "m.put_in_pouch('doll')\n",
    "m.put_in_pouch('firetruck')\n",
    "m.put_in_pouch('kitten')\n",
    "print(m.pouch_contents())  # Output: ['doll', 'firetruck', 'kitten']\n",
    "\n",
    "k = Kangaroo(0, 0)\n",
    "print(k)  # Output: I am a Kangaroo located at coordinates (0,0)\n",
    "k.put_in_pouch('doll')\n",
    "k.put_in_pouch('firetruck')\n",
    "k.put_in_pouch('kitten')\n",
    "print(k.pouch_contents())  # Output: ['doll', 'firetruck', 'kitten']\n",
    "\n",
    "k.jump(1, 0)\n",
    "k.jump(1, 0)\n",
    "k.jump(1, 0)\n",
    "print(k)  # Output: I am a Kangaroo located at coordinates (3,0)\n"
   ]
  },
  {
   "cell_type": "markdown",
   "id": "6cd4d8ab",
   "metadata": {},
   "source": [
    "Q4:"
   ]
  },
  {
   "cell_type": "code",
   "execution_count": 24,
   "id": "a470cfb9",
   "metadata": {},
   "outputs": [
    {
     "name": "stdout",
     "output_type": "stream",
     "text": [
      "1\n",
      "10\n",
      "5\n",
      "16\n",
      "8\n",
      "4\n",
      "2\n",
      "1\n"
     ]
    }
   ],
   "source": [
    "def collatz(x):\n",
    "    print(x)\n",
    "    if x == 1:\n",
    "        return\n",
    "    elif x % 2 == 0:\n",
    "        collatz(x // 2)\n",
    "    else:\n",
    "        collatz(3 * x + 1)\n",
    "collatz(1)\n",
    "# Output: 1\n",
    "\n",
    "collatz(10)\n",
    "# Output:\n",
    "# 10\n",
    "# 5\n",
    "# 16\n",
    "# 8\n",
    "# 4\n",
    "# 2\n",
    "# 1\n"
   ]
  },
  {
   "cell_type": "markdown",
   "id": "0542fcf1",
   "metadata": {},
   "source": [
    "Q5:"
   ]
  },
  {
   "cell_type": "code",
   "execution_count": 5,
   "id": "1519775e",
   "metadata": {},
   "outputs": [
    {
     "name": "stdout",
     "output_type": "stream",
     "text": [
      "0\n",
      "1\n",
      "11\n",
      "1001\n"
     ]
    }
   ],
   "source": [
    "def binary(n):\n",
    "    if n == 0:\n",
    "        return '0'\n",
    "    elif n == 1:\n",
    "        return '1'\n",
    "    else:\n",
    "        return binary(n // 2) + str(n % 2)\n",
    "print(binary(0))\n",
    "# Output: 0\n",
    "\n",
    "print(binary(1))\n",
    "# Output: 1\n",
    "\n",
    "print(binary(3))\n",
    "# Output: 11\n",
    "\n",
    "print(binary(9))\n",
    "# Output: 1001\n"
   ]
  },
  {
   "cell_type": "markdown",
   "id": "716fb739",
   "metadata": {},
   "source": [
    "\n"
   ]
  },
  {
   "cell_type": "markdown",
   "id": "56482e5c",
   "metadata": {},
   "source": [
    "Q8:"
   ]
  },
  {
   "cell_type": "markdown",
   "id": "5d236b7e",
   "metadata": {},
   "source": [
    "a: All the temperature data"
   ]
  },
  {
   "cell_type": "code",
   "execution_count": 19,
   "id": "5761a1ec",
   "metadata": {},
   "outputs": [
    {
     "ename": "SyntaxError",
     "evalue": "invalid syntax (3798486728.py, line 1)",
     "output_type": "error",
     "traceback": [
      "\u001b[1;36m  Cell \u001b[1;32mIn[19], line 1\u001b[1;36m\u001b[0m\n\u001b[1;33m    SELECT Temperature\u001b[0m\n\u001b[1;37m           ^\u001b[0m\n\u001b[1;31mSyntaxError\u001b[0m\u001b[1;31m:\u001b[0m invalid syntax\n"
     ]
    }
   ],
   "source": [
    "SELECT Temperature\n",
    "FROM table_name;\n"
   ]
  },
  {
   "cell_type": "markdown",
   "id": "c280af7f",
   "metadata": {},
   "source": [
    "b:All the cities, but without repetition"
   ]
  },
  {
   "cell_type": "code",
   "execution_count": 21,
   "id": "8e1faaa9",
   "metadata": {},
   "outputs": [
    {
     "ename": "SyntaxError",
     "evalue": "invalid syntax (783014901.py, line 1)",
     "output_type": "error",
     "traceback": [
      "\u001b[1;36m  Cell \u001b[1;32mIn[21], line 1\u001b[1;36m\u001b[0m\n\u001b[1;33m    SELECT DISTINCT City\u001b[0m\n\u001b[1;37m           ^\u001b[0m\n\u001b[1;31mSyntaxError\u001b[0m\u001b[1;31m:\u001b[0m invalid syntax\n"
     ]
    }
   ],
   "source": [
    "SELECT DISTINCT City\n",
    "FROM table_name;\n"
   ]
  },
  {
   "cell_type": "markdown",
   "id": "9d53f06c",
   "metadata": {},
   "source": [
    "c) All the records for India."
   ]
  },
  {
   "cell_type": "code",
   "execution_count": 22,
   "id": "de4deedb",
   "metadata": {},
   "outputs": [
    {
     "ename": "SyntaxError",
     "evalue": "invalid syntax (2694966875.py, line 1)",
     "output_type": "error",
     "traceback": [
      "\u001b[1;36m  Cell \u001b[1;32mIn[22], line 1\u001b[1;36m\u001b[0m\n\u001b[1;33m    SELECT *\u001b[0m\n\u001b[1;37m            ^\u001b[0m\n\u001b[1;31mSyntaxError\u001b[0m\u001b[1;31m:\u001b[0m invalid syntax\n"
     ]
    }
   ],
   "source": [
    "SELECT *\n",
    "FROM table_name\n",
    "WHERE Country = 'India';\n"
   ]
  },
  {
   "cell_type": "markdown",
   "id": "2330bd54",
   "metadata": {},
   "source": [
    "d) All the Fall records."
   ]
  },
  {
   "cell_type": "code",
   "execution_count": null,
   "id": "1ca177f6",
   "metadata": {},
   "outputs": [],
   "source": [
    "SELECT City, Country, Season\n",
    "FROM table_name\n",
    "WHERE Season = 'Fall' AND Rainfall BETWEEN 200 AND 400;\n"
   ]
  },
  {
   "cell_type": "markdown",
   "id": "a33f37e3",
   "metadata": {},
   "source": [
    "e) The city, country, and season for which the average rainfall is between 200 \n",
    "and 400 millimeters."
   ]
  },
  {
   "cell_type": "code",
   "execution_count": null,
   "id": "af48959b",
   "metadata": {},
   "outputs": [],
   "source": [
    "SELECT City, Country\n",
    "FROM table_name\n",
    "WHERE Season = 'Fall' AND Temperature > 20\n",
    "ORDER BY Temperature ASC;\n"
   ]
  },
  {
   "cell_type": "markdown",
   "id": "5a321333",
   "metadata": {},
   "source": [
    "f) The city and country for which the average Fall temperature is above 20 \n",
    "degrees, in increasing temperature order."
   ]
  },
  {
   "cell_type": "code",
   "execution_count": null,
   "id": "058a968f",
   "metadata": {},
   "outputs": [],
   "source": [
    "SELECT SUM(Rainfall) AS Total_Rainfall\n",
    "FROM table_name\n",
    "WHERE City = 'Cairo';\n"
   ]
  },
  {
   "cell_type": "markdown",
   "id": "02845a8b",
   "metadata": {},
   "source": [
    "e) The total annual rainfall for Cairo."
   ]
  },
  {
   "cell_type": "code",
   "execution_count": null,
   "id": "613dd3aa",
   "metadata": {},
   "outputs": [],
   "source": [
    "SELECT SUM(Rainfall) AS Total_Rainfall\n",
    "FROM table_name\n",
    "WHERE City = 'Cairo';\n"
   ]
  },
  {
   "cell_type": "markdown",
   "id": "8d9bb45e",
   "metadata": {},
   "source": [
    "f) The total rainfall for each season"
   ]
  },
  {
   "cell_type": "code",
   "execution_count": null,
   "id": "07bafb29",
   "metadata": {},
   "outputs": [],
   "source": [
    "SELECT Season, SUM(Rainfall) AS Total_Rainfall\n",
    "FROM table_name\n",
    "GROUP BY Season;\n"
   ]
  },
  {
   "cell_type": "markdown",
   "id": "5bf55022",
   "metadata": {},
   "source": [
    "Q9: "
   ]
  },
  {
   "cell_type": "markdown",
   "id": "155b2ad4",
   "metadata": {},
   "source": [
    "a) ['THE', 'QUICK', 'BROWN', 'FOX', 'JUMPS', 'OVER', 'THE', \n",
    "'LAZY', 'DOG']"
   ]
  },
  {
   "cell_type": "code",
   "execution_count": null,
   "id": "e4179635",
   "metadata": {},
   "outputs": [],
   "source": [
    "result_a = [word.upper() for word in words]\n"
   ]
  },
  {
   "cell_type": "markdown",
   "id": "1b250130",
   "metadata": {},
   "source": [
    "b) ['the', 'quick', 'brown', 'fox', 'jumps', 'over', 'the', \n",
    "'lazy', 'dog']\n"
   ]
  },
  {
   "cell_type": "code",
   "execution_count": null,
   "id": "5bdee9e4",
   "metadata": {},
   "outputs": [],
   "source": [
    "result_b = [word.lower() for word in words]\n"
   ]
  },
  {
   "cell_type": "markdown",
   "id": "5e3e6eac",
   "metadata": {},
   "source": [
    "c) [3, 5, 5, 3, 5, 4, 3, 4, 3] (the list of lengths of words in list \n",
    "words).\n"
   ]
  },
  {
   "cell_type": "code",
   "execution_count": null,
   "id": "3ad064a7",
   "metadata": {},
   "outputs": [],
   "source": [
    "result_c = [len(word) for word in words]\n"
   ]
  },
  {
   "cell_type": "markdown",
   "id": "37c18747",
   "metadata": {},
   "source": [
    "d) [['THE', 'the', 3], ['QUICK', 'quick', 5], ['BROWN', \n",
    "'brown', 5], ['FOX', 'fox', 3], ['JUMPS', 'jumps', 5], \n",
    "['OVER', 'over', 4], ['THE', 'the', 3], ['LAZY', 'lazy', \n",
    "4], ['DOG', 'dog', 3]] (the list containing a list for every word of list \n",
    "words, where each list contains the word in uppercase and lowercase and the \n",
    "length of the word.)"
   ]
  },
  {
   "cell_type": "markdown",
   "id": "f2f27228",
   "metadata": {},
   "source": []
  },
  {
   "cell_type": "code",
   "execution_count": null,
   "id": "77701bd2",
   "metadata": {},
   "outputs": [],
   "source": [
    "result_d = [[word.upper(), word.lower(), len(word)] for word in words]\n"
   ]
  },
  {
   "cell_type": "markdown",
   "id": "a2ac1049",
   "metadata": {},
   "source": [
    "e) ['The', 'quick', 'brown', 'fox', 'jumps', 'over', 'the', \n",
    "'lazy', 'dog'] (the list of words in list words containing 4 or more \n",
    "characters.)"
   ]
  },
  {
   "cell_type": "code",
   "execution_count": null,
   "id": "b30e8cca",
   "metadata": {},
   "outputs": [],
   "source": [
    "result_e = [word for word in words if len(word) >= 4]\n"
   ]
  },
  {
   "cell_type": "markdown",
   "id": "f6d66b1e",
   "metadata": {},
   "source": []
  },
  {
   "cell_type": "markdown",
   "id": "39a8b9b7",
   "metadata": {},
   "source": [
    "Q2:"
   ]
  },
  {
   "cell_type": "code",
   "execution_count": 18,
   "id": "988bffec",
   "metadata": {},
   "outputs": [
    {
     "name": "stdout",
     "output_type": "stream",
     "text": [
      "File midterm.py not found.\n",
      "File idterm.py not found.\n"
     ]
    }
   ],
   "source": [
    "def fileLength(filename):\n",
    "    try:\n",
    "        infile = open(filename, 'r')\n",
    "        content = infile.read()\n",
    "        infile.close()\n",
    "        return len(content)\n",
    "    except FileNotFoundError:\n",
    "        print(\"File\", filename, \"not found.\")\n",
    "fileLength('midterm.py')  # Output: 358\n",
    "fileLength('idterm.py')   # Output: File idterm.py not found.\n"
   ]
  },
  {
   "cell_type": "code",
   "execution_count": null,
   "id": "2e20d6a7",
   "metadata": {},
   "outputs": [],
   "source": []
  }
 ],
 "metadata": {
  "kernelspec": {
   "display_name": "Python 3 (ipykernel)",
   "language": "python",
   "name": "python3"
  },
  "language_info": {
   "codemirror_mode": {
    "name": "ipython",
    "version": 3
   },
   "file_extension": ".py",
   "mimetype": "text/x-python",
   "name": "python",
   "nbconvert_exporter": "python",
   "pygments_lexer": "ipython3",
   "version": "3.10.9"
  }
 },
 "nbformat": 4,
 "nbformat_minor": 5
}
